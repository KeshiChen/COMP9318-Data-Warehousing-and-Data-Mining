{
 "cells": [
  {
   "cell_type": "code",
   "execution_count": 33,
   "metadata": {},
   "outputs": [
    {
     "name": "stdout",
     "output_type": "stream",
     "text": [
      "nneighbor_errors10   23.59\n",
      "dtree_errors10       39.87\n",
      "nneighbor_errors100  47.77\n",
      "dtree_errors100      69.70\n"
     ]
    }
   ],
   "source": [
    "import numpy as np\n",
    "def error_calculator():\n",
    "    baseline_errors = [23.83, 74.77, 67.35, 44.49, 7.71, 96.26, 50.20, 38.63]\n",
    "    train_errors = {'nneighbor_errors10':[20.31, 60.17, 64.50, 39.98, 8.27, 16.86, 59.47, 6.45],\\\n",
    "                    'dtree_errors10':[8.88, 61.50, 71.00, 20.38, 2.97, 28.76, 52.60, 14.35],\\\n",
    "                    'nneighbor_errors100':[7.44, 26.47, 57.37, 34.71, 4.79, 3.93, 50.88, 7.91],\\\n",
    "                    'dtree_errors100':[0.71, 22.65, 21.22, 19.46, 0.62, 11.80, 49.25, 5.98]}\n",
    "    results = {'nneighbor_errors10':[],'dtree_errors10':[],'nneighbor_errors100':[],'dtree_errors100':[]}\n",
    "    for key in train_errors:\n",
    "        for i in range(len(baseline_errors)):\n",
    "            results[key].append((baseline_errors[i] - (train_errors[key])[i])/baseline_errors[i])\n",
    "        print('{:20}'.format(key),'{:.2f}'.format(np.mean(results[key])*100))\n",
    "error_calculator()"
   ]
  }
 ],
 "metadata": {
  "kernelspec": {
   "display_name": "Python 3",
   "language": "python",
   "name": "python3"
  },
  "language_info": {
   "codemirror_mode": {
    "name": "ipython",
    "version": 3
   },
   "file_extension": ".py",
   "mimetype": "text/x-python",
   "name": "python",
   "nbconvert_exporter": "python",
   "pygments_lexer": "ipython3",
   "version": "3.6.4"
  }
 },
 "nbformat": 4,
 "nbformat_minor": 2
}
