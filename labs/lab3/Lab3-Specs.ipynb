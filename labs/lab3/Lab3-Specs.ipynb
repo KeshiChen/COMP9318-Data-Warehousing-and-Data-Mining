{
 "cells": [
  {
   "cell_type": "markdown",
   "metadata": {},
   "source": [
    "# COMP9318 Lab3"
   ]
  },
  {
   "cell_type": "markdown",
   "metadata": {},
   "source": [
    "## Instructions\n",
    "1. This note book contains instructions for **COMP9318-lab3**.\n",
    "\n",
    "* You are required to complete your implementation in a file `submission.py` provided along with this notebook.\n",
    "\n",
    "* You are not allowed to print out unnecessary stuff. We will not consider any output printed out on the screen. All results should be returned in appropriate data structures via corresponding functions.\n",
    "\n",
    "* You can submit your implementation for **lab3** via following link: https://kg.cse.unsw.edu.au:8318/lab3/ .\n",
    "\n",
    "* For each question, we have provided you with detailed instructions along with question headings. In case of any problem, you can post your query @ Piazza.\n",
    "\n",
    "\n",
    "* You are allowed to add other functions and/or import modules (you may have to in this lab), but you are not allowed to define global variables. **Only functions are allowed** in `submission.py`. \n",
    "\n",
    "* You should not import unnecessary modules/libraries, failing to import such modules at test time will lead to errors.\n",
    "\n",
    "* We will provide immediate feedback on your submission. You can access your scores using the online submission portal on the same day. \n",
    "\n",
    "* For **Final Evaluation** we will be using a different dataset, so your final scores may vary.  \n",
    "\n",
    "* You are allowed to submit as many times as you want before the deadline, but **ONLY the latest version will be kept and marked**.\n",
    "\n",
    "* Submission deadline for this assignment is **23:59:59 on 2nd May, 2018**. We will **not** accept any late submissions."
   ]
  },
  {
   "cell_type": "markdown",
   "metadata": {},
   "source": [
    "# Question-1: Text Classification using Multinomial Naive Bayes\n",
    "\n",
    "You are required to implement a multinomial naive bayes classifier to predict spam SMS.\n",
    "\n",
    "The training data is a set of SMS categoried into `spam` and `ham`."
   ]
  },
  {
   "cell_type": "code",
   "execution_count": 1,
   "metadata": {
    "scrolled": true
   },
   "outputs": [
    {
     "data": {
      "text/html": [
       "<div>\n",
       "<style scoped>\n",
       "    .dataframe tbody tr th:only-of-type {\n",
       "        vertical-align: middle;\n",
       "    }\n",
       "\n",
       "    .dataframe tbody tr th {\n",
       "        vertical-align: top;\n",
       "    }\n",
       "\n",
       "    .dataframe thead th {\n",
       "        text-align: right;\n",
       "    }\n",
       "</style>\n",
       "<table border=\"1\" class=\"dataframe\">\n",
       "  <thead>\n",
       "    <tr style=\"text-align: right;\">\n",
       "      <th></th>\n",
       "      <th>category</th>\n",
       "      <th>text</th>\n",
       "    </tr>\n",
       "  </thead>\n",
       "  <tbody>\n",
       "    <tr>\n",
       "      <th>0</th>\n",
       "      <td>ham</td>\n",
       "      <td>Go until jurong point, crazy.. Available only ...</td>\n",
       "    </tr>\n",
       "    <tr>\n",
       "      <th>1</th>\n",
       "      <td>ham</td>\n",
       "      <td>Ok lar... Joking wif u oni...</td>\n",
       "    </tr>\n",
       "    <tr>\n",
       "      <th>2</th>\n",
       "      <td>spam</td>\n",
       "      <td>Free entry in 2 a wkly comp to win FA Cup fina...</td>\n",
       "    </tr>\n",
       "    <tr>\n",
       "      <th>3</th>\n",
       "      <td>ham</td>\n",
       "      <td>U dun say so early hor... U c already then say...</td>\n",
       "    </tr>\n",
       "    <tr>\n",
       "      <th>4</th>\n",
       "      <td>ham</td>\n",
       "      <td>Nah I don't think he goes to usf, he lives aro...</td>\n",
       "    </tr>\n",
       "  </tbody>\n",
       "</table>\n",
       "</div>"
      ],
      "text/plain": [
       "  category                                               text\n",
       "0      ham  Go until jurong point, crazy.. Available only ...\n",
       "1      ham                      Ok lar... Joking wif u oni...\n",
       "2     spam  Free entry in 2 a wkly comp to win FA Cup fina...\n",
       "3      ham  U dun say so early hor... U c already then say...\n",
       "4      ham  Nah I don't think he goes to usf, he lives aro..."
      ]
     },
     "execution_count": 1,
     "metadata": {},
     "output_type": "execute_result"
    }
   ],
   "source": [
    "import pandas as pd\n",
    "import numpy as np\n",
    "raw_data = pd.read_csv('./asset/data.txt', sep='\\t')\n",
    "raw_data.head()"
   ]
  },
  {
   "cell_type": "markdown",
   "metadata": {},
   "source": [
    "In order to implement a unigram model, first we tokenize the text. We use the count corresponding to each token (word) in the SMS as its feature (i.e., bag of words). We store the features and catrgorical information for each SMS in a `dictionary`."
   ]
  },
  {
   "cell_type": "code",
   "execution_count": 50,
   "metadata": {},
   "outputs": [
    {
     "name": "stdout",
     "output_type": "stream",
     "text": [
      "1.206219310002343\n",
      "1:\n",
      "['kashmir', 'fail', 'crude', 'october', 'himself', 'sea', 'ship', 'period', 'mogadishu', 'present', 'less', 'poll', 'pct', 'east', 'iraq', 'you', 'peninsula', 'niger', 'education', 'whose', 'nuclear', 'past', 'dollar', 'sanction', 'occupy', 'presidency', 'governor', 'guerrilla', 'diplomatic', 'purchase', 'each', 'struggle', 'above', 'commit', 'mohammad', 'convoy', 'lawyer', 'kirkuk', 'move', 'however', 'per', 'earthquake', 'much', 'kurdish', 'than', 'city', 'more', 'zimbabwe', 'daily', 'tourism', 'establish', 'kenya', 'commitment', 'protect', 'little', 'videotape', 'chicago', 'commercial', 'electricity', 'custody', 'orbit', '61', 'vessel', 'offshore', 'housing', 'currency', 'budget', 'accusation', 'ocean', '2008', 'syria', 'bank', 'bomb', 'darfur', '/', 'development', 'guard', '70', 'start', 'water', 'can', 'rise', 'weapon', 'korea', 'recent', 'occupation', 'found', 'strand', 'replace', 'model', 'farc', 'settle', 'contribute', 'transport', 'trader', 'girl', 'h1', 'kidnapper', 'mexican', 'technology', 'troubled', 'thank', 'ruler', 'host', 'berlin', 'generate', 'particularly', 'possibly', 'baquba', 'nearby', 'refinery', 'hear', 'caribbean', 'laboratory', 'jet', 'evacuate', 'illegally', 'migrant', 'resistance', 'designate', 'kosovo', 'delegate', 'consumption', 'relate', 'capita', 'compare', 'nomination', 'yr', 'nigerian', 'coastal', 'inflation', 'relay', 'employee', 'exile', 'slightly', 'fisherman', 'undergo', 'violate', 'normal', 'building', 'neighborhood', 'cartoon', 'control', 'fall', '14', \"shi'ite\", 'eu', 'fuel', 'attempt', 're', 'review', 'address', '17', 'identify', 'keep', 'divide', 'through', 'oil', '--', 'activity', 'end', 'three', 'business', 'outside', 'mark', 'today', 'egyptian', 'woman', '1996', 'war', 'most', 'barrel', 'anniversary', 'computer', 'network', 'impose', 'arabia', 'net', 'money', 'improve', 'index', 'ne', 'level', 'agricultural', '+', 'rain', 'century', 'sudan', 'west', 'across', '08', 'because', 'national', 'afghanistan', 'region', 'embassy', 'public', 'long', 'support', 'large', 'continue', 'bill', 'village', 'total', 'drop', 'problem', 'resident', 'percent', 'eat', 'relocate', 'chile', 'libya', 'young', 'rapidly', 'armenians', 'determine', 'empire', 'mauritania', 'unexpectedly', 'deliver', 'spur', 'assess', 'survey', 'landslide', 'submit', 'illness', '43', 'count', 'fox', 'passport', 'hang', 'infiltrate', 'prominent', 'arable', 'curfew', 'strongly', 'aden', 'hijack', 'pirate', 'blockade', 'reopen', 'airline', 'spring', 'maybe', 'ghana', 'value', 'observe', 'execute', 'examine', 'norway', 'toward', 'registration', '34', 'explode', 'mother', 'jazeera', 'arabic', 'buddhist', 'liberia', 'design', 'factory', 'fly', 'hijacker', 'recruit', 'protection', 'fever', 'probe', 'swat', 'green', 'narcotic', 'management', 'discipline', 'enclave', 'ambush', 'disaster', 'draft', 'me', '19', 'koreans', 'phase', 'ahmad', 'vital', 'asylum', 'revolution', 'gunfire', 'suspend', 'volunteer', 'flee', 'pyongyang', 'infect', 'transportation', 'duty', 'watch', 'kilogram', 'portfolio', 'el', 'temperature', 'monthly', 'ivory', 'depend', 'blood', 'wto', 'dujail', 'weekly', 'alaska', 'iaea', 'men', 'intensify', 'results', '19th', 'medication', 'sierra', 'un', 'detonate', 'easy', 'combination', 'different', 'delta', 'active', 'variety', 'commodity', 'humanity', 'aside', 'irish', 'surgery', 'recover', 'possibility', 'route', 'transit', 'grade', 'progress', 'highlight', 'subway', 'unity', 'religious', 'write', 'gb', 'l', 'w', 'dayton', 'serbs', 'consulate', 'editor', 'austerity', 'driver', 'warplane', 'television', 'food', 'territory', 'around', 'division', 'live', '12', 'rebel', 'international', 'into', 'of', 'oppose', 'connection', 'walk', 'access', 'christmas', 'night', 'ten', 'cell', 'militia', 'material', 'provincial', 'farm', 'red', 'industry', '36', '24', '29', 'especially', 'look', 'aids', 'every', 'rescue', 'northwest', 'force', 'insurgent', 'strip', 'school', 'chad', 'investment', 'detainee', '25', 'try', 'urge', 'kidnap', 'deadly', 'get', 'coast', 'good', 'full', 'criticize', 'constitution', '11', 'produce', 'reform', 'it', 'do', 'militant', 'anti', 'program', 'out', 'north', 'billion', 'area', 'main', 'rate', 'air', 'u.s', 'the', 'britain', 'heavy', 'iranian', 'point', 'district', 'family', 'africa', 'way', 'fighter', 'its', 'there', 'southern', 'local', 'car', 'hundred', 'violence', 'demonstrator', 'saudi', '28', 'vehicle', '2005', 'private', 'americans', 'threaten', 'injure', 'canadian', 'resume', 'iran', 'blast', 'attack', 'morning', 'reactor', 'somali', 'thai', 'amount', 'cargo', 'abduct', 'themselves', 'scientist', 'discover', 'relationship', 'withdraw', 'nothing', 'february', 'assassination', 'almost', 'sheikh', 'displace', 'population', 'traffic', 'heart', 'televise', 'together', 'deficit', 'staff', '120', 'average', 'fish', 'import', 'celebrate', 'rich', 'mosque', 'jail', 'approval', 'university', 'industrial', 'genocide', 'ramadi', 'responsibility', 'federation', 'newsroom', 'au', '2002', '15', 'not', 'record', 'bomber', '22', 'month', 'this', 'be', 'india', 'many', 'august', 'pakistan', 'town', 'agency', 'economy', 'involvement', 'antonio', 'engineer', 'algerian', 'shuttle', 'cold', '06-feb', 'closure', 'electoral', 'usually', 'creation', 'abductee', 'fc', 'equally', 'diversify', 'trafficker', 'ninth', 'preserve', 'cincinnati', 'overnight', 'hardship', 'tent', 'batch', 'c$', '33', 'armstrong', 'asghari', 'yield', 'fluid', 'bodily', 'hemorrhagic', 'mention', 'massoud', 'temporary', 'cruise', 'charter', 'abc', 'transparency', 'theme', 'grip', 'peru', 'himalayan', 'brief', 'cac-40', 'refer', 'alive', 'jean', 'unless', '15,000', 'machine', 'mars', 'shipment', 'worry', 'toronto', 'upset', 'airspace', 'summary', 'slogan', 'chant', 'mideast', 'maker', 'samarra', 'tikrit', 'unilateral', 'curtail', 'negative', 'autonomous', 'gem', 'extradite', 'vietnam', 'sure', 'participant', 'veer', 'manufacturing', 'pursuit', 'impossible', 'objection', 'alternative', 'cofinec', 'seriously', 'gasoline', 'pullout', 'retire', 'identity', '74', 'vietnamese', 'tender', 'environmental', 'stabilize', 'molestation', 'antarctic', 'english', 'vandalism', 'tunnel', 'eventually', 'monarchy', 'condemnation', 'scandal', 'naval', 'stockpile', '98', 'theft', 'saharan', 'sub', 'jebel', 'slight', 'eps', 'trading', 'recount', 'parent', 'brokerage', 'restive', 'nablus', 'programming', 'storage', 'false', 'dismantle', 'punish', 'pension', 'lunch', 'condemn', 'uruzgan', 'towards', 'cede', '1814', 'miner', 'bangkok', 'downtown', '1967', 'censor', 'custom', 'discovery', 'tal', 'philadelphia', 'deport', 'headquarters', 'brigade', 'martyrs', 'aqsa', 'aegean', 'imprison', 'musa', 'iron', 'our', 'killing', 'transitional', 'beyond', 'landing', 'hideout', '750', 'companion', 'strict', 'adhere', 'originally', 'healthy', 'breast', 'businessman', 'inch', 'guingamp', 'dominate', '60th', 'tripura', 'contraction', 'asset', 'fix', 'rangoon', '1800', '9373', 'navy', 'takeover', 'metro', 'fee', 'incorporation', 'wish', 'formula', 'polish', 'st.', 'mln', 'sumatra', 'volcano', 'arrange', 'confederation', 'hijacking', '1985', 'egg', 'aviv', 'ulsan', 'memory', 'card', 'dress', 'commando', 'pittsburgh', 'regular', 'quarterly', 'queensland', 'comply', '10th', 'xi', 'carrier', 'heroin', 'smuggle', 'serbia', 'inmate', 'copper', '25-meter', 'publicly', 'basketball', 'halftime', 'southwestern', 'twin', 'runoff', 'random', 'stoke', 'hotel', 'shop', 'alkmaar', 'az', 'zaire', 'tanzania', 'amsterdam', 'athens', 'bag', 'distance', 'track', 'eruption', 'exit', 'rafah', 'bangladesh', 'potentially', '22-year', 'andrew', 'nationally', 'implement', 'indefinitely', 'spaniard', 'mongolia', 'disagreement', 'skill', 'associate', 'danish', 'morocco', 'moroccan', 'medicine', 'ton', 'harbor', 'assume', 'bodyguard', 'flea', 'extort', 'version', 'percentage', 'assign', 'shirt', 'scientific', 'defect', 'image', 'instead', 'pump', 'brain', 'breakdown', 'nepalese', 'stream', 'shadow', 'assault', 'closer', 'damascus', 'slam', 'socialist', 'intimidate', 'transaction', 'williams', 'box', 'influential', '1650', '859', '212', 'desk', 'ethiopian', 'bulk', 'software', 'reference', 'participation', 'drought', 'various', 'informal', 'quake', 'zero', 'sink', 'mobile', 'mineral', 'peruvian', 'matter', 'downturn', 'malaria', 'radical', 'wrong', 'monetary', 'adoption', '10-percent', 'maximum', 'twice', 'armistice', 'assist', 'sustain', 'uae', 'shore', 'kind', 'mullah', 'roughly', 'capitalist', 'mixed', 'anger', 'imf', 'privatization', 'uzbekistan', 'cafe', 'distribution', 'wrap', 'mining', 'africans', 'flat', 'rtrs', 'none', 'zhejiang', 'attain', 'jamaica', '1,000', 'arrear', 'caracas', 'beirut', 'cameroon', 'belgium', 'mayor', 'taipei', 'torch', 'leg', 'chaotic', 'workforce', 'regulator', 'hassan', 'eid', 'denounce', 'dissatisfied', 'sleep', 'festival', 'bell', 'complicate', 'drilling', '104', 'vaccinate', 'petition', 'extensive', 'eligible', 'beef', 'banana', 'internet', 'saudis', 'jordanians', 'balkan', 'retake', '71', 'repatriate', 'moon', 'adequate', 'unearth', 'archaeologist', 'rhythm', 'arabs', 'belong', 'bahrain', 'maritime', '58', 'pound', 'melt', 'nickel', 'sulaimaniyah', '52', 'unable', 'complain', 'moslem', 'mississippi', 'coma', 'hamper', 'landfall', 'slum', 'owner', 'bilateral', 'enterprise', 'expenditure', 'ivorian', 'consortium', 'boeing', 'could', 'source', 'deal', 'big', 'site', 'child', 'committee', 'korean', 'refugee', 'cost', 'raid', 'nato', 'nearly', '13', 'thousand', 'those', 'government', 'report', 'health', 'palestinian', 'price', 'people', 'close', 'council', 'pakistani', 'u.n.', 'have', 'develop', 'explosion', 'appeal', 'hamas', 'send', 'worker', 'growth', 'somalia', 'build', 'claim', 'bus', 'know', 'already', 'cup', 'standard', 'station', 'describe', 'bid', 'rally', 'kabul', 'position', 'focus', 'casualty', 'dispute', 'tribal', 'nigeria', 'relation', '60', 'cabinet', 'sunni', 'voter', 'abuse', 'road', 'official', 'arrest', 'remain', 'nation', 'work', 'group', 'place', 'time', '.', 'authority', 'germany', 'seven', 'statement', 'american', 'gulf', 'intelligence', 'capture', 'such', 'estimate', 'explosive', 'sector', 'request', '2010', 'passenger', '1990', 'enter', 'dozen', 'expert', 'bosnian', 'destroy', 'suspect', 'british', 'aid', 'kill', 'believe', 'company', 'want', 'over', 'gang', 'lebanese', 'why', 'boycott', 'square', 'crew', 'severe', 'maintain', 'deadline', 'property', 'envoy', 'wave', 'popular', 'haitian', 'collapse', 'scale', '2009', '45', '150', 'mainly', 'earth', 'willing', 'ecuador', '64', 'wake', 'dismiss', 'economist', 'evidence', 'harm', 'jordan', 'colombian', 'kidnapping', 'history', 'hiv', 'fishing', 'singapore', 'stage', 'ever', 'retain', 'negotiation', 'income', 'requirement', 'suggest', 'enrichment', 'pact', 'treaty', 'sichuan', '26', 'course', 'strategy', 'spread', 'atlantic', 'boat', 'difference', 'short', 'double', 'cent', 'student', 'humanitarian', 'halt', 'treat', 'survive', 'assistance', 'legislation', 'with', 'where', 'decade', 'series', 'emergency', 'burma', 'independence', '9', 'april', 'mission', 'armed', 'despite', 'nine', 'demand', 'go', 'increase', 'expect', 'late', 'baghdad', 'begin', 'ministry', 'cause', 'target', 'head', '.-', 'approve', 'conflict', 'turkey', 'and', '4', '\"', 'security', 'iraqi', 'between', 'provide', 'york', 'meanwhile', 'other', 'in', 'five', 'near', 'world', 'allegation', 'murder', 'battle', 'offensive', 'speed', 'indonesian', 'campaign', 'response', 'further', 'withdrawal', 'contact', '21', 'declare', 'board', 'fund', 'life', 'toll', 'situation', 'document', 'fiscal', 'additional', 'port', 'african', 'accuse', 'under', 'south', 'say', 'still', 'show', 'democratic', 'investigate', 'how', 'sudanese', 'condition', 'accord', 'take', 'which', 'island', 'economic', 'capital', 'use', 'land', '2001', 'final', 'warn', 'indian', 'colombia', 'katrina', '2003', 'soldier', 'will', 'two', 'police', 'drug', 'japan', 'eight', 'coalition', 'small', '30', 'western', 'protest', 'london', 'parliament', 'union', 'ago', 'to', 'low', 'province', 'week', 'from', 'foreign', 'meet', 'as', 'they', '', 'for', 'friday', 'lead', 'man', 'fight', 'united', 'talk', 'six', 'fire', 'member', 'charge', 'result', 'news', 'ahead', 'dead', 'hurricane', '8', 'sunday', 'link', 'medium', 'decision', 'h5n1', 'global', 'search', 'pressure', 'relief', 'missile', 'launch', 'seat', '23', 'too', 'gas', 'occur', 'trade', 'terrorism', 'conduct', 'outbreak', 'game', 'construction', 'cleric', 'republic', 'journalist', '27', 'sale', 'quote', 'river', 'hostage', 'democracy', 'settlement', 'community', 'recently', 'ethnic', 'publish', 'financial', 'peacekeeping', 'or', 'adopt', 'plot', 'agriculture', '1991', 'aircraft', 'brazil', 'immediate', 'direct', '80', 'soviet', 'tourist', 'petroleum', 'buy', 'lack', 'stability', 'previously', 'center', 'think', 'mosul', 'draw', 'cooperation', 'natural', 'serb', 'manage', 'boost', 'extremist', 'unemployment', 'enough', 'complete', 'story', 'wall', 'regional', 'mostly', 'assembly', 'plan', 'czech', 'dawn', 'daughter', 'though', 'victory', '1997', 'croatian', 'responsible', 'georgia', 'tear', 'equipment', 'fifth', 'rest', 'artist', 'speaker', 'separatist', 'separately', 'chechen', 'relative', 'ease', 'villager', 'expire', 'foot', 'balad', 'leftist', 'politic', 'substantial', 'opportunity', '62', 'sydney', 'rape', 'addition', 'approach', 'person', 'yemen', 'florida', 'grenade', 'race', 'feed', 'highway', 'colorado', 'word', 'critical', 'avian', 'package', 'surround', 'qualify', '35', 'shortage', 'louisiana', 'room', 'christians', 'resource', 'immigrant', 'prompt', 'abroad', '76', 'revolutionary', \"n't\", 'restrict', 'basis', 'college', 'range', 'abandon', 'reply', 'finance', 'association', '1986', '75', 'continent', 'wait', 'swiss', 'gunbattle', 'atmosphere', 'escalate', 'sample', 'enjoy', 'quarter', 'merger', 'greece', 'aboard', 'devastate', 'historic', 'string', 'holiday', 'mine', 'repeat', 'ukrainian', 'wind', 'zone', 'elsewhere', 'handle', 'insurgency', 'tajikistan', 'republican', 'trip', 'jakarta', 'dissident', 'branch', 'earn', 'honor', 'pontiff', 'cover', 'poultry', 'product', '81', 'surplus', 'intense', 'critic', 'represent', 'ruin', 'able', 'cooperate', 'northern', '10', 'premium', 'sculpture', 'audio', 'gao', 'accountability', 'ice', 'residential', 'barzani', 'serviceman', 'philip', 'lokeren', 'anderlecht', 'installation', 'baluchistan', 'overrun', 'penitentiary', 'bloodless', 'shift', 'sec', 'borrow', 'gdansk', 'sierakowice', 'conglomerate', 'bone', 'fracture', 'sosa', 'sammy', 'fielder', 'cub', 'inequality', 'remorse', 'innocent', 'tragedy', 'convey', 'actually', '28-year', 'yonhap', 'spr', 'nationalist', 'avaz', 'eln', 'captor', 'unrest', 'baath', 'jordanian', 'shortfall', 'abolish', 'depict', 'tarnish', 'dwelling', 'demolish', 'mugabe', 'unprecedented', 'intergovernmental', '1951', 'partial', 'confrontation', 'scream', 'latvia', 'finnish', 'honey', 'hollow', 'electric', 'battery', 'engine', 'conventional', 'evade', 'cave', 'litter', '384', 'obesity', 'vegetable', 'fruit', 'lance', 'seasonally', 'audience', 'fao', 'wellington', 'balance', 'notes', 'edition', 'blockbuster', 'sequel', 'paramount', 'symbolize', 'fold', 'overflight', 'mire', 'plata', 'plate', 'interbank', 'peso', 'gradually', '7.2', 'rock', 'reaction', 'badakhshan', 'hubble', 'influenza', 'symptom', 'hospitalize', 'baton', 'rift', 'ranch', 'cholmondeley', 'overwhelm', '1941', 'silence', 'guest', 'zeng', 'roadblock', 'ablaze', 'prevalence', 'azerbaijan', 'neighbour', 'massacre', 'structural', 'cbi', 'uk', 'trend', 'preside', 'kabila', 'counter', 'k', 'circle', 'advantage', 'shaft', 'seng', 'encounter', 'tachileik', 'mekong', 'sistani', 'discount', 'ceasefire', 'sharm', 'bias', 'perception', 'boudhiba', 'ben', 'zealand', 'a.m.', 'auckland', 'izmir', 'destination', 'panamanian', 'w-2', 'dub', 'welfare', 'chain', 'workout', 'amusement', 'afford', 'soup', 'brutal', 'gauge', 'volatile', 'quetta', '125', 'staunch', 'claude', 'karachi', 'sufficiently', '343', '337', 'prizes', 'nobel', '3.1', '2.4', 'correct', 'uefa', 'reward', 'hewitt', 'needy', 'edouard', '73.83', 'glass', 'cigarette', 'alcohol', 'equal', 'dubai', 'frequent', 'concession', 'dna', 'athlete', 'let', 'consular', 'accrue', 'luanda', 'signal', 'physician', 'orientation', 'marxist', 'peshawar', 'tripoli', 'surrey', 'divorce', 'diana', 'diversity', 'spot', 'paulo', 'windows', 'microsoft', 'namibian', 'bauxite', 'kemal', 'ant', 'prior', 'incursion', 'aerial', 'reality', 'physicist', 'sa', 'petroleos', 'filipinos', 'russians', 'safina', 'safarova', 'lucie', 'nomad', 'mfs', 'routine', 'robust', 'tijuana', 'ricardo', 'jul', 'reid', '869.3', 'pt', '1.2', 'cnb-120', 'x', 'dem', 'f', 'specialist', 'zicot', 'irna', 'cat', 'maturity', 'minor', 'permit', 'tanker', 'fujimori', 'alberto', 'invite', 'hasina', 'bangladeshi', 'contrast', 'color', 'orange', 'clothe', 'fleet', 'instrument', '273', 'mp', '101', 'convene', '68', 'shortly', 'graf', 'nurse', '800', 'stay', 'rehabilitation', 'hebei', 'love', 'outlying', 'trinidad', 'boldon', 'ato', 'herat', 'rob', 'prevail', 'glorifie', 'shrine', 'karvina', 'defence', 'broker', 'ammunition', 'caretaker', 'install', 'insist', 'tighten', 'satisfy', 'bolivar', 'sher', 'graft', 'gorge', 'crescent', 'blaze', 'casino', 'blackout', 'impoverished', 'jurisdiction', 'soyuz', 'quell', 'rawalpindi', 'rent', 'possession', 'mcclellan', 'warning', 'populated', 'larsen', 'roed', 'terje', '147', 'peak', 'bushehr', '450', 'neutrality', 'alter', 'entry', 'scam', 'nov', 'khalaf', 'brigadi', 'vukovar', 'christianity', 'household', 'imperial', '1917', 'rioting', 'devastating', '66', 'seattle', 'recipient', 'omar', 'fugitive', 'des', 'monk', 'burmese', 'helibor', 'uruguay', 'difficulty', 'assure', 'relocation', 'execution', 'ramirez', 'desecration', 'koran', 'projection', 'uprising', 'inspector', 'taksim', 'istanbul', 'ignore', 'baseless', '185', 'ohio', 'gmt', 'umpire', 'improvement', 'pitch', 'melbourne', 'knock', 'lee', 'doboj', 'apprehend', 'paint', 'munich', 'opener', 'blanket', 'abbott', 'deposit', 'pierina', 'drill', 'fresh', 'barrick', 'prosper', '4.32', '2,563.16', 'spirit', 'objective', 'granma', 'atlantis', 'coverage', 'locally', 'mm', '0.25', 'shower', 'vaccination', 'ottoman', 'imprisonment', 'tobacco', 'sugarcane', 'jute', 'processing', 'courier', 'mv', 'freighter', 'reza', 'elham', '6.1', 'arthur', 'celebration', 'kick', 'bethlehem', 'here', 'manger', 'scout', '106.5', '35.0', '18.5', '18.0', 't', '52-week', 'benchmark', 'coupon', 'mostostal', 'yam', 'bean', 'squash', 'millennium', 'herbicide', 'fertiliser', '72', '73', 'marburg', 'statehood', 'shah', 'indirect', 'ration', 'intellectual', 'cultural', '1966', 'dai', 'heighten', 'carnival', 'efficient', 'slash', 'automaker', 'hike', 'recommend', '73-year', 'lincoln', 'pirates', 'extent', 'quarantine', 'ostrich', 'dr.', 'bathroom', 'boast', 'conquer', 'ability', 'hebron', 'exception', 'auto', 'cheap', 'nile', 'citizenship', 'unresolved', 'mahmud', 'orient', 'timber', 'seafood', 'bissau', 'pradesh', 'andhra', 'karnataka', '140', '1982', 'extraction', 'occupant', 'ritual', 'hostility', 'mortality', 'attacker', 'midnight', 'walkover', 'trio', 'compassion', 'orakzai', 'hawk', 'kite', 'expose', 'pigeon', '1993', 'hanoi', 'intel', 'ensure', 'motorist', 'mujtaba', 'asif', 'cartel', 'chip', 'snatch', 'mediate', 'solid', 'budgetary', 'balata', 'protein', 'tumor', 'grief', 'sivaram', 'altar', 'stamp', 'suburb', 'bertrand', 'demobilize', 'debris', 'homosexuality', 'pedophile', 'jintao', 'garrison', 'scar', 'exactly', 'sepat', 'aftermath', 'sinai', 'dismal', 'citigroup', 'timisoara', 'politehnica', 'f.c.', 'belarusian', 'sporadic', 'testify', 'perjury', 'prosecution', 'harvest', 'swear', 'skirmish', 'meningiti', 'romania', 'unarmed', 'converge', 'karbala', 'environment', 'hazardous', 'subsidiary', 'firefight', 'accurate', 'finding', 'bragantino', 'gremio', 'integrity', 'territorial', 'welcome', '1.6', 'diminish', 'mouse', 'fiber', 'killer', 'guideline', 'wreckage', 'secretly', 'glitch', 'nasa', 'belief', 'indians', 'cleveland', 'ranger', 'greer', 'rusty', 'singh', 'manmohan', 'withhold', 'fertilizer', 'ultimately', '55', '1825', 'penal', '.470', 'laborer', 'apologize', 'hot', 'ambitious', 'sail', 'ereli', 'adam', 'czechoslovakia', 'czechs', 'slovaks', 'hungarian', 'austro', 'reign', '2012', 'kumble', 'anil', '112', 'prophet', 'summon', 'globe', 'santa', 'update', 'absentia', 'antitrust', 'imphold', 'wed', 'jill', 'language', 'unfair', 'passage', 'arulanandam', 'mindanao', 'vaccine', 'eradication', 'gadget', 'technical', 'communication', 'triangle', 'monterrey', 'hair', 'salang', '.496', 'sex', 'remember', 'recall', 'stevanin', 'ansa', 'nkrumah', 'kwame', 'conceive', 'backyard', 'consistently', 'agent', 'enforcement', 'slave', 'montserrat', 'kitts', 'colonist', '135', 'g.', 'invent', 'aide', 'deed', 'believer', 'patriarch', 'gross', 'differ', 'suggestion', 'obligation', 'disruption', 'auction', 'liechtenstein', 'nominal', 'induce', 'bei', 'guangzhou', 'priority', 'smooth', 'kuna', 'barrack', 'fujian', 'longwang', 'disqualify', 'organiser', 'iowa', 'pamphlet', 'toxic', 'thaw', 'albanian', 'albania', 'beheading', 'rural', 'simpson', 'phillie', 'edge', '1932', 'entertain', 'relax', 'atagi', 'novye', 'tass', 'cousin', 'clinic', 'component', '42', 'nicaraguan', '1795', 'prussia', 'packaging', 'impediment', 'marry', 'stimulate', 'disastrous', 'anyang', 'europol', 'discourage', 'militancy', 'rita', 'howard', 'resumption', 'granddaughter', 'isolated', 'consideration', 'multi', 'pricing', 'stork', 'unique', 'federalism', 'deeply', 'oaxaca', 'kfar', 'basra', 'eyesight', 'horseback', 'interrupt', 'unprofessional', 'cnn', 'indonesians', 'johan', 'abductor', 'armored', '105', 'incentive', 'hardware', 'afar', 'clean', 'contagious', 'brace', 'airliner', 'stuttgart', 'vfb', 'advocacy', 'royal', 'sidi', 'germans', 'heathrow', 'worsen', 'impend', 'enap', '17-year', 'modern', 'birth', 'eritrean', 'demarcation', 'virtual', 'glasgow', 'officially', 'opium', 'parliamentarian', 'fairly', 'guidance', 'jackson', 'happy', 'dance', 'fundraiser', 'lavish', 'stern', 'myanmar', 'occasionally', 'bidder', 'cdu', 'verbal', 'shortwave', '12-month', 'kickback', 'rezko', 'moodie', 'kostelic', 'ranking', 'guangdong', 'volcanic', 'mount', 'medicare', 'reimbursement', 'cubic', 'aref', 'reyes', 'lithium', 'entitle', 'bargal', 'athletic', 'competitor', 'humiliating', 'taunt', 'tychy', 'sokol', 'transmit', 'anonymity', 'lightly', 'unconstitutional', 'astana', 'effectively', 'multinational', 'nun', 'anticipate', '700', 'stomach', 'kyi', 'suu', 'aung', 'planet', 'location', 'structure', 'launder', '5000', 'warwickshire', 'beograd', 'ofk', 'glamorgan', 'removal', 'semi', 'unc', '.02', 'dn', 'pageant', 'employment', 'subsistence', 'disappointing', 'genetic', 'marra', 'bombard', 'tally', 'secular', 'embezzlement', 'katowice', 'gks', 'thu', 'inventory', 'clerk', '155', 'symbol', 'yearly', 'sharply', 'southernmost', 'equatoria', 'anglo', 'episode', 'viewer', 'discretion', 'programme', '88', 'mercy', 'corrupt', 'hanwha', 'ssangbangwool', 'jaafari', '7.5', 'bread', 'wage', '448', '339', 'penrith', 'lira', '3,000', 'utility', 'employer', 'channel', 'haze', 'mutilate', 'gul', 'cholesterol', 'whole', '370', 'ownership', 'latter', 'lengthy', 'exert', 'intention', 'tortoise', 'hare', 'compatriot', 'bat', 'frozen', 'thaksin', 'span', 'ratify', 'finalize', 'majlis', 'constituent', '12-year', '51-year', 'roof', 'flame', 'franc', 'francesco', 'reconvene', 'frame', 'statue', 'rare', 'rancher', 'cooper', 'nickname', 'cloud', 'cull', 'lull', 'shatter', 'belgrade', 'comprise', 'albanians', '78', 'municipality', 'destabilize', 'hospitalise', 'cozma', 'romanian', 'administrative', 'macedonia', 'madrid', 'client', 'tycoon', 'qala', 'dart', 'mustard', 'hectare', '5.2', 'proclamation', 'lithuania', 'knowledge', 'sometimes', 'flamengo', 'relieved', 'embattle', 'recognition', 'brasilia', 'bounty', 'pakistanis', 'concerted', 'spike', 'srinagar', 'follower', 'unspecified', 'tip', 'anonymous', '3.7', 'juventude', 'warship', 'yemeni', 'ijaz', 'exam', 'reveal', '0.85', 'cocaine', 'raw', 'wealthy', 'translator', 'choke', 'productive', '128', 'log', 'morinville', 'et', 'volkswagen', 'carmaker', 'swine', 'unmanned', 'copei', 'nascent', '77-year', 'marcos', 'subcomandante', 'nice', 'bengali', 'lumber', 'cme', 'weigh', '33,000', 'approximately', 'apply', 'generation', 'strictly', 'floodwater', 'badly', 'portion', '6.3', 'accumulation', 'overseas', 'surveillance', 'baby', 'fiancee', 'stallone', 'husband', 'daniel', 'widow', 'paramilitary', 'bloodshed', 'unconfirmed', 'antioquia', 'impunity', 'lender', 'chance', 'q2', 'epa', 'provocation', 'sheep', 'radioactive', 'dirty', 'tsunamis', 'silent', 'vulnerable', 'louis', 'commissioner', '.466', 'pregnancy', 'wacker', 'admira', 'rumour', '6.05', '1.55', 'gainer', 'holding', 'incorporate', 'mid-1980', 'ashkelon', 'termination', 'agoa', 'madagascar', 'possess', '.473', 'oakland', '82', 'milk', '325', 'bulldogs', 'acre', 'reliever', 'swan', 'ekeren', 'petersburg', 'g-8', '25-year', 'gtr', 'baht', 'rip', 'moenchengladbach', 'borussia', 'yucatan', 'pius', 'papacy', 'niue', 'yugoslavia', 'garhi', 'instantly', 'hurry', 'collective', 'irbil', 'function', 'sharon', 'arabian', 'miami', 'assessment', 'keys', 'crimean', 'splinter', 'bakassi', 'shelter', 'plymouth', 'hill', 'mediator', 'inspect', '116', 'payroll', 'inflate', 'entity', 'golden', 'costly', 'scrutiny', '1979', 'unfounded', 'byrd', 'hamadi', 'mourner', 'automatically', 'lay', 'statoil', 'consist', 'ituri', 'headline', 'forge', 'demonstrate', 'zoo', 'muster', 'austrian', 'temporarily', 'largely', 'gates', 'arizona', 'uss', 'anchor', 'dare', 'annoyed', 'qualified', 'collinelli', 'bitter', 'constituency', 'drum', 'chester', '57th', 'testimony', 'su', 'ein', 'misguided', 'escalation', 'massachusetts', 'kerry', 'provoke', 'taiwanese', 'marines', 'carbon', 'michele', 'intercept', 'migration', 'section', 'display', 'decoration', 'consequence', '267', 'supervision', 'accomplish', 'bromwich', 'charlton', 'seller', 'jun', 'pvs', 'atletico', 'underscore', '2.3', 'meantime', 'middlesex', 'kms', 'rout', 'pmc', 'prohibit', 'renne', 'montenegro', 'debrecen', '373', 'prijedor', 'notorious', 'whoever', '360', 'midw', 'scrap', 'egyptians', 'instability', 'landlocked', 'consecutive', 'blacklist', 'yell', 'dam', 'irrigation', 'equality', 'adnan', 'vanallen', 'simultaneously', 'belt', 'radiation', 'tournament', 'dinamo', 'olympiakos', 'successor', 'adoptive', 'canadians', 'profile', 'pardon', 'oversold', 'selection', 'zawahiri', 'g8', 'rotate', 'equator', 'proximity', 'excellent', 'toughen', 'inspection', 'zoellick', 'hindus', 'purported', 'ajax', '.522', 'restart', 'authenticity', 'bolster', 'columbia', 'duck', '53rd', 'bundesliga', 'duisburg', 'msv', 'salou', 'everything', '301', 'dimitris', 'shipping', 'faithful', 'embrace', 'priest', 'website', 'plastic', 'inconclusive', 'stalemate', 'football', '6.5', 'clue', 'pistol', 'uri', '1976', 'friendly', 'guerilla', 'entrance', 'slaughter', 'abate', 'janjaweed', 'dhaka', 'moral', 'advocate', 'konare', 'oumar', 'alpha', 'amman', 'karbouli', 'caf', 'absence', 'circuit', 'bajaur', 'juvenile', 'proliferator', 'funnel', '1924', '1921', 'liberal', 'introduction', 'johnson', 'orioles', 'clergy', 'commonly', 'makeup', 'origin', 'espersen', 'wo', 'fluctuation', 'melilla', 'thwart', 'jaffna', 'ambiguous', 'mid-1990', 'mismanagement', 'kurds', 'samawa', '82-year', 'intestinal', 'safely', 'childhood', 'size', 'anxiety', '444', '136', 'vw', 'spare', 'sir', 'dear', 'o', 'expatriate', 'ignite', 'dramatically', 'compact', 'marshall', 'signature', 'tough', 'poznan', 'lech', 'stun', 'upsurge', 'lot', 'parking', 'rooftop', 'plague', 'sabah', 'excessive', 'arise', 'discharge', 'coventry', 'prize', 'abduction', 'gunpoint', 'usual', 'hague', 'rtl', 'prolong', 'reclaim', 'grasp', 'thus', 'sexual', 'seeker', 'drag', 'factional', 'brake', 'primerica', 'merge', 'a.l.', 'retaliate', 'tuz', 'monopoly', 'pemex', 'longevity', 'mediation', 'senegal', 's&p', 'paktika', 'nationality', 'chronic', 'endure', 'nationalists', 'museum', 'artifact', 'meal', 'roasted', 'accidental', 'qinghai', 'ambition', 'apparent', 'reconsider', 'pose', 'sanitation', 'dinner', 'gravity', 'dish', 'landmark', 'paralyse', 'technician', 'controller', 'raichev', 'stefan', 'tonne', 'p.m.', '!', 'coal', 'revive', 'creature', 'angola', 'cholera', 'unofficial', 'sake', 'lahore', 'sand', 'educate', 'combatant', 'bloc', 'steady', 'defy', 'institution', 'acquisition', 'terminate', 'penn', 'evening', 'excerpt', 'cbs', 'wilson', 'serpent', 'cache', 'rig', 'gap', 'roman', '284', 'lending', 'cooperative', 'minster', 'tymoshenko', 'yulia', 'culture', '1.8', 'kyiv', 'mainstay', '160', 'paula', 'utc', 'fault', 'dominican', 'honduras', 'barrier', 'parallel', 'splitting', '1953', '37th', 'useless', 'hostile', 'beer', 'jump', 'sheet', 'mill', 'alone', 'smoker', 'kunar', 'competitive', 'fayaz', 'brazzaville', 'parade', 'alito', 'judiciary', 'elimination', 'humane', 'atlanta', 'barghouti', 'marwan', 'sense', 'kirk', 'outdoor', 'anchorage', 'khursheed', 'onlooker', 'pet', '164', 'lord', 'clause', 'kupwara', 'peat', 'guinness', '2.5', 'rebound', 'ail', 'goodluck', 'overloaded', 'reckless', 'shanghai', 'ningbo', 'havana', 'portuguese', 'fiscally', 'rctv', '1863', '18th', 'colonize', 'cayman', 'fraction', 'retroviral', 'independently', 'orinoco', 'faso', 'burkina', 'azad', 'adviser', 'openly', 'ireland', 'consolidate', 'leone', 'misuse', 'observance', 'productivity', 'squeeze', '113', 'careful', 'extremely', 'controversy', 'h', 'chong', 'liu', 'pill', 'tentative', 'charity', '1920s', '1974', 'print', 'window', 'rear', 'firecracker', 'undeclared', 'vary', 'timing', 'hunger', 'permission', 'revoke', 'react', 'iii', 'reinstate', 'lesotho', 'warri', 'emotional', 'mend', 'emancipation', 'wong', 'authorization', 'slovak', 'animal', 'compile', 'songwriter', 'nominate', 'selected', 'broaden', 'specialized', 'backbone', 'sugar', 'coffee', 'syrians', 'warhead', 'dimona', 'westward', 'shape', 'epsilon', 'handover', 'drift', 'ki', 'akam', 'oklahoma', '130', 'stephen', 'collide', 'shrewsbury', 'prostate', 'legend', 'slowdown', '17-month', 'surpass', 'map', 'internationally', 'liaison', 'sky', 'sheffield', 'fourteen', '12.0', '9.0', 'mali', 'oxfam', 'construct', 'master', 'founder', 'yukos', 'khalilzad', 'zalmay', 'moslems', 'register', 'uncover', 'mistreatment', '9000', '265', '91', 'reciprocate', 'farmland', 'embankment', 'unlikely', 'martina', 'blackmail', 'pack', 'tightly', 'bureau', 'reprint', 'soir', 'receipt', 'initiative', 'privatize', 'collection', 'rein', 'rafiq', 'balloon', 'osthoff', 'aviation', 'dominance', 'u.s.', 'china', 'an', 'set', 'european', 'march', 'israel', 'sign', 'army', 'civilian', 'what', '3', 'when', 'that', 'consider', 'agreement', 'export', 'strike', '7', 'tuesday', 'some', ':', 'test', 'camp', 'help', 'central', 'earlier', 'share', 'chinese', 'half', 'create', 'turn', 'at', '-', 'several', 'carry', 'last', \"'s\", 'she', 'flu', 'eastern', 'policeman', 'supply', 'due', 'clear', 'role', 'muslim', 'pay', 'flood', 'israeli', '20', 'qaida', 'victim', 'seek', 'find', 'peace', 'state', 'on', 'al', 'rule', 'country', 'own', 'case', 'until', 'number', 'hit', 'during', 'troop', 'massive', 'freedom', '1998', 'currently', 'minority', 'december', 'profit', 'affect', '100', 'hour', 'injury', '40', 'often', 'john', 'facility', 'gain', 'middle', 'similar', 'ceremony', 'plane', 'throughout', 'contain', 'indonesia', 'least', 'up', 'only', 'gaza', '$', 'house', 'part', 'match', 'blame', 'bombing', 'july', 'energy', 'tehran', 'key', 'now', 'europe', 'third', 'stop', 'later', 'so']\n",
      "0:\n",
      "['david', 'yeltsin', 'executive', 'powell', 'replacement', 'phone', 'brazilian', 'wimbledon', 'mubarak', 'mr.', 'speech', 'm.', 'autonomy', 'jan', 'bhutto', 'cypriot', 'bulgaria', 'lap', 'inspire', 'midfielder', 'maryland', 'wild', 'maliki', 'confront', 'gyanendra', 'title', 'apparently', 'uribe', 'giant', 'benedict', 'denial', 'insult', 'hosni', 'straight', 'legal', 'sell', 'restore', 'rival', 'rice', 'vice', 'initiate', 'reluctant', 'plea', 'penalty', 'recovery', 'enrich', 'abdullahi', 'veto', 'medal', 'karimov', 'bhutan', 'levee', 'inability', 'really', 'armenia', 'marseille', 'industrialize', 'sick', 'contribution', 'these', 'savic', 'visegrad', 'aggressive', 'stake', 'awareness', 'view', 'society', 'jose', 'internal', 'mbeki', 'puk', 'kyrgyzstan', 'voice', 'universal', 'forum', 'eighth', 'suleiman', 'rush', 'roe', 'reunification', 'performance', 'cancel', 'guy', 'flush', 'meadows', 'huber', 'maleeva', 'atoll', 'constitute', 'wildlife', 'judith', 'wiesner', 'croatia', 'chris', 'actress', 'tunisia', 'offset', 'magazine', 'augusto', 'pinochet', 'indict', 'kamal', 'hiddink', 'vogts', 'postal', 'nathalie', 'pence', 'transfer', 'migratory', 'slovenia', 'nouri', 'championship', 'lebed', 'moratorium', 'hardline', 'sponsor', 'hansa', 'rostock', 'sean', 'hat', 'trick', 'pauli', 'bin', 'inc.', 'tribe', 'belgian', 'goss', 'gunfight', 'walid', 'quickly', 'ill', 'colin', 'forma', 'exceed', 'tibetan', 'emirate', 'outgoing', 'whom', 'funeral', 'koizumi', 'fallujah', 'heat', 'unite', 'curb', 'blessing', 'morales', 'indigenous', 'zionism', 'surayud', 'delegation', 'reconstruction', 'm', 'contractor', 'nationwide', 'tribute', 'conte', 'topple', 'nervous', 'thani', 'levy', 'lynch', 'compound', 'chancellor', 'angela', 'merkel', 'zvornik', 'social', 'plo', 'cheney', 'stick', 'dissolve', 'abdel', 'missionary', 'strength', 'lauck', 'bar', 'j.', 'multiparty', 'highly', 'philippine', 'francisco', 'unnamed', 'wang', 'takeda', '350', 'vs.', '1975', 'irreparable', 'kevin', 'congratulate', 'sing', 'suspicious', 'xvi', 'bratislava', 'online', 'aol', 'abdullah', 'institute', 'worship', 'upcom', '22nd', 'personal', 'dutroux', 'cape', 'choose', 'avenge', 'grimsby', 'christopher', 'compete', 'seoul', 'abbas', 'lankan', 'robert', 'st', 'star', 'hamid', 'extend', 'real', 'sixth', 'tour', 'pro', 'confirm', 'president', 'prince', 'hugo', '18', 'obama', 'australia', 'beat', 'we', 'chavez', 'ms.', 'cia', 'shell', 'receive', 'list', 'appear', 'possible', 'appoint', 'hungary', 'croat', 'pull', 'widely', 'reuters', 'opponent', 'research', 'cast', 'endorse', '300', 'bali', 'corp', 'expel', 'pursue', 'christian', 'praise', 'yushchenko', 'easily', 'hollywood', 'islam', '1980', 'league', 'newly', 'truce', 'path', 'music', 'finally', 'donald', 'rumsfeld', 'powerful', 'paul', 'benefit', 'leadership', 'summer', 'secretary', '(', 'congress', 'exchange', 'olympic', 'prosecutor', 'artillery', 'oncin', 'melinda', 'smith', 'stein', 'thermal', 'zapatista', 'nac', 'breda', 'nec', 'nijmegen', '36th', 'basque', 'eta', '15-member', 'maynard', 'wasim', 'akram', 'confer', 'extraordinary', 'achievement', 'exhibition', 'jewelry', 'famous', 'royalty', 'restoration', 'donation', 'publicize', 'leash', 'attach', 'smile', 'harsh', 'unocal', 'perth', 'joseph', 'engineering', 'renegotiate', 'dye', 'sergeant', 'milton', 'ortiz', 'conspire', 'architect', 'effect', 'clearly', 'lower', 'rba', '199', 'airway', 'secondhand', 'smoke', '430', 'infant', 'karami', 'tactic', '2.6', 'earmark', '600,000', 'retail', 'takemura', 'rebellion', 'gary', 'exclusive', 'proper', 'clearance', 'dining', 'briefly', 'jabalya', 'beit', 'hanoun', 'vincent', 'metal', 'courthouse', 'portugal', 'jorge', 'porto', '18-man', 'kubis', 'ariane', 'guiana', 'improvised', 'egeland', 'ugandan', 'pure', 'pire', 'metz', 'henry', 'monaco', 'razuri', 'joaquin', 'lak', 'vouch', 'accuracy', 'mini', 'behavior', 'buffett', 'boris', 'centre', 'azahari', 'ghanaian', 'accra', 'talha', 'amy', 'frazier', 'dominguez', 'manuel', 'barroso', 'rene', 'preval', 'kdp', 'mortar', 'bernard', 'bot', 'estonian', 'arnold', 'ruutel', 'erdogan', 'mottaki', 'confidence', 'bob', 'acquire', 'yankees', 'debut', 'ravi', 'punjab', 'retaliation', 'mob', 'amend', 'citgo', 'harvesting', 've', 'staffer', 'pilot', 'ad', 'cement', 'impasse', 'except', 'midway', 'nwr', 'saeed', 'anwar', '176', 'evacuation', 'lady', 'laugh', 'juba', 'garang', 'coulthard', 'mclaren', 'apologise', 'commentary', 'ghazni', 'hemisphere', '54', '5.1', 'iva', 'majoli', '6-', 'difficult', 'multiple', 'icy', 'martin', 'sorry', 'gwyneth', 'depress', 'salih', 'momentum', 'roh', 'moo', 'hyun', 'karol', 'kucera', 'slovakia', 'chang', 'kanyarukiga', 'postponement', '...', 'publishing', 'hefty', 'greg', 'preparation', 'jemaah', 'prosecute', 'container', 'casey', 'abortion', 'mashhadani', 'kharrazi', 'guus', 'feyenoord', 'vitesse', 'defender', 'vierklau', 'cocu', 'veldman', 'witschge', 'handful', 'facilitate', 'penrose', 'frenchman', 'frederic', 'burns', 'saran', 'dmitry', 'medvedev', 'falter', 'lien', 'wood', 'axe', 'beg', 'sven', 'teutenberg', 'sorensen', 'wheat', 'rafik', 'grower', 'brad', 'delp', 'northeastern', 'hampshire', 'dechy', 'anabel', 'medina', 'garrigue', '06-jan', 'roger', 'federer', 'safin', 'yesterday', 'ratner', '260', 'rodriguez', 'patriot', 'culminate', 'balkans', 'sofia', 'google', 'restriction', 'retreat', 'teen', 'upswing', 'tsang', 'villepin', 'pickens', 'mccain', 'najaf', '84', 'sprint', 'nagin', 'consultation', 'advisory', 'hakimi', 'stir', 'f.w.', 'klerk', 'thabo', 'apology', 'mistake', 'broad', 'cologne', 'dundee', 'karlsruhe', 'demolition', 'sharapova', 'web', 'osama', 'laden', 'europeans', 'steve', 'claire', 'cattle', 'deplete', 'porter', 'craig', 'marketing', 'anderson', 'chemlon', 'humenne', 'holocaust', 'myth', 'jumblatt', 'luis', 'caution', 'solve', 'representation', 'kohl', 'solution', 'breakaway', 'interfax', 'barter', 'volkova', 'telecom', 'koninklijke', 'nv', 'adjust', 'respective', 'ridge', 'justify', 'victor', 'exact', 'emile', 'lahoud', 'hero', 'oliver', 'serie', 'relegate', 'prix', 'importance', 'henri', 'perform', 'bossa', 'nova', 'sussex', 'w.', '111', 'lancashire', '6.4', 'wwf', 'bluefin', 'tool', '5,000', 'grab', 'subdue', 'richards', 'ball', 'vacuum', 'bargain', 'dealing', 'vacancy', 'mainstream', 'mock', 'junichiro', 'stumble', 'kumaratunga', 'ethnicity', 'religion', 'stagger', 'constructorul', 'chisinau', 'studio', 'film', 'oz', 'bankruptcy', 'tower', 'bleed', 'baker', 'itamar', 'rabinovich', 'suitable', 'leslie', 'fate', 'intervene', 'hossein', 'luge', 'turin', 'commend', 'counsel', 'patrick', 'fitzgerald', 'courage', 'emanuele', 'canonica', 'jeff', 'tarango', 'alex', 'radulescu', 'empower', 'kai', 'eide', 'directly', 'injunction', 'cheat', 'petr', 'korda', 'caldwell', 'gunship', 'aug', 'zimbabwean', 'mediterranean', 'bakool', 'u.n', 'yusuf', 'sympathizer', 'jans', 'koert', 'palmans', 'mukasey', 'durham', 'sphere', 'r.', 'kaluwitharana', 'tendulkar', 'endanger', 'hillary', 'livestock', 'marriage', 'occasion', 'automobile', 'lovato', 'matt', 'h.i.v.', 'hamburg', 'karsten', 'baeron', 'dazzle', 'harald', 'oval', 'tiananmen', 'kuchma', 'n.', '86', 'd.', 'gough', '210', 'mind', 'faith', 'botham', 'dash', 'portsmouth', 'zapatero', 'puerto', 'automatic', 'wedding', 'micheletti', 'zelaya', 'barricade', 'benazir', 'arlington', 'cemetery', 'brazilians', 'rallying', 'makinen', 'lakes', 'abubakar', 'zardari', 'impeach', 'kingdom', 'belarus', 'fragmented', 'erase', 'revolt', 'veiled', 'erkinbayev', 'buyer', 'reassure', 'aig', 'calm', 'falkland', 'argentina', 'blair', 'departure', 'faisal', 'rumor', 'turki', 'akerson', 'gm', 'ceo', 'salesman', '110', 'boardman', 'concede', 'shadab', 'kabir', '87', 'phnom', 'penh', 'ieng', 'deepen', 'sino', 'bedside', 'treasure', 'afterward', 'luiz', 'inacio', 'lula', 'da', 'silva', 'genoa', 'striker', 'tennessee', 'carolina', 'bakara', 'seventy', \"'d\", 'romano', 'prodi', 'punishment', 'khaled', 'meshaal', 'ramadan', 'shallah', 'netanyahu', 'batchelor', 'barton', 'riel', 'jalalabad', 'nangarhar', '3.8', 'guerrero', 'optimism', 'corporate', 'soft', 'cola', 'provider', 'at&t', 'verizon', 'initial', 'wolfowitz', 'trainer', 'male', 'embark', 'exhume', 'grave', 'reshuffle', 'apostolic', 'gray', 'cable', 'wikileaks', 'crush', 'dick', 'accidentally', 'fellow', 'hunter', 'reverse', 'boss', 'dark', 'powder', 'tablet', 'larijani', 'jim', 'copy', 'askar', 'motivated', 'rid', 'motorcycle', 'crippled', 'continuous', 'siphon', 'amir', '1972', 'johnstone', 'burst', 'gilford', 'cage', 'mike', 'clayton', 'remarkable', 'invade', 'protectorate', 'significant', 'togolese', 'gnassingbe', '83', 'fifty', 'fiery', 'blogger', 'karim', 'joyful', 'greet', 'chesnot', 'georges', 'malbrunot', 'debbie', 'graham', 'assistant', 'richard', '1956', 'restrictive', 'credible', 'stab', 'groenefeld', 'stanford', 'skating', 'willem', 'tilburg', 'fortuna', 'sittard', 'eager', 'bernd', 'offence', 'gloucestershire', '280', 'russell', 'revitalize', 'rebate', 'ernesto', 'samper', 'actor', 'effigy', 'repeatedly', 'kiss', 'shilpa', 'shetty', 'skier', 'bode', 'miller', 'vancouver', 'super', 'slalom', 'jabaliya', 'empty', 'coffin', 'ashore', 'zambia', 'breed', 'hans', 'erik', 'expos', 'smuggler', 'confess', 'precedent', 'assignment', 'forward', 'gujral', 'wrongdoing', 'lament', 'basuki', 'semifinalist', 'youth', 'montpelli', 'cannes', '8th', 'pipe', 'benzene', 'arson', 'mercosur', 'boraine', 'incomplete', 'apartheid', 'submission', 'caller', 'abnormal', 'kocinski', 'aoki', 'kph', 'angry', 'skid', '165', 'ravine', '275', 'plantation', 'ransom', 'nist', 'sight', 'science', 'enqvist', 'stephane', 'antibiotic', 'application', 'edwin', 'caraballo', 'bennett', 'ringleader', 'idema', '10-year', 'scoreboard', 'carol', 'pearson', 'partisan', 'drc', 'andre', 'agassi', 'spin', 'rag', 'poisoning', 'arc', 'supplier', 'armenian', 'lethal', 'injection', 'liaon', 'precaution', 'silver', 'medalist', 'irregularity', 'ass', 'sundown', 'baghdadi', 'character', 'eyewitness', 'element', 'insert', 'guide', 'define', 'lithuanian', 'adamkus', '756', 'jesus', 'countryside', 'ignacio', 'chela', 'veteran', 'moya', 'quarterfinal', 'cheer', 'eld', 'guitar', 'jazz', 'zacarias', 'moussaoui', 'flore', 'outsider', 'ioc', 'shed', 'taking', 'nonetheless', 'floor', 'backer', 'nursultan', 'nazarbayev', '2020', 'italians', 'harass', 'nicholas', 'sarkozy', 'ghad', 'nour', 'forgery', 'java', 'solo', 'object', 'hole', 'greeting', 'assumption', 'riddled', 'error', 'credibility', 'hosseini', 'annex', 'nationalize', 'robot', 'jockey', 'wilma', 'manila', 'milf', 'kuala', 'lumpur', 'inter', 'slovan', 'vanuatu', 'archipelago', 'northeast', 'sisco', 'uncensored', 'transcript', 'hearing', 'sole', 'dissent', 'popov', 'sport', 'scandinavian', 'deterioration', 'ivo', 'sanader', 'implementation', 'bashir', 'competent', 'advertising', 'reformist', 'djindjic', 'mary', 'jamie', 'jennifer', 'hudson', '21st', 'soul', 'segment', 'wipe', 'ingrid', 'haringa', 'mercantile', 'shake', 'iftikhar', 'chaudhry', '286', '48', 'marie', 'ion', 'cameraman', 'eduard', 'trans', 'bride', 'regulation', 'decree', 'snap', 'incumbent', 'baluch', 'compensation', 'manhattan', 'scope', 'consistent', 'seiki', 'okuda', 'archbishop', 'hoax', 'sieg', 'abstention', 'gloria', 'arroyo', 'estrada', 'stormy', 'impeachment', 'incur', 'plummet', 'prevention', 'bail', '26-year', \"o'brien\", 'atp', 'native', 'hometown', 'litigation', 'scholar', 'relic', 'sack', 'constantinople', 'milan', 'martic', 'disabled', 'caucasus', 'icac', 'tire', 'danny', 'blind', 'oppressed', 'justin', 'leonard', 'tauziat', 'ting', 'clarence', 'rose', 'radar', 'axum', 'addis', 'ababa', 'barry', 'rivalry', 'motive', 'reaffirm', 'evelyn', 'leopold', 'olivier', 'panis', 'ligi', 'hyderabad', '941', 'disappointed', 'administrator', 'optimistic', 'favorable', 'opec', 'cyclone', 'bourlet', 'paedophile', 'lukoil', 'memorandum', 'exploration', '7/8', 'mehrtens', 'actual', 'chirac', 'panic', 'shaul', 'mofaz', 'ruegen', '103', 'prove', 'brand', 'lucrative', 'prolific', 'composer', 'pork', 'hog', 'framework', 'stretch', 'minnesota', 'mutola', 'gear', 'stride', 'clock', 'starve', '83rd', 'ceremonial', 'candle', 'hymn', 'rough', 'haga', 'yoshikawa', 'barno', 'remnant', 'fade', 'barbara', 'spla', 'pretoria', 'label', 'rauf', 'narrowly', 'franz', 'left', 'coetzer', '17th', '195', 'kilometre', 'haarlem', 'almere', 'batticaloa', 'lg', '*', 'partition', 'jerry', 'adams', 'ira', 'sinn', 'fein', 'terrorize', 'alvaro', 'willingness', 'bellerive', 'chair', 'disburse', 'labour', 'anguilla', 'secede', '1971', 'annan', 'subsidize', 'modest', '7.4', 'ackerman', 'junior', 'aleksandra', 'olsza', 'eliminate', 'magdalena', 'cosmonaut', 'wrack', 'clan', 'lawlessness', '1978', 'organisation', 'oic', 'forget', 'solitary', 'confinement', 'ideology', 'felipe', 'perez', 'roque', 'lage', 'checkpoint', 'jericho', 'hitch', 'cotton', 'professor', 'lodge', 'tranmere', 'else', 'bandar', 'sultan', 'gonzales', 'hispanic', 'attorney', 'spiritual', 'principle', 'twitter', 'nepali', 'prachanda', 'compromise', 'mccormack', 'taylor', 'manufacture', 'golf', 'ski', 'khan', 'operational', 'howes', 'bristol', 'interpreter', 'huot', 'h5n2', 'dell', 'harare', 'tome', 'principe', 'indebted', 'hipc', 'conscience', 'marcus', 'gronholm', 'finland', 'toyota', 'celica', 'rodrigo', 'rescuer', 'partially', 'congressional', 'quite', 'wielgus', 'baltimore', 'sampras', '19-year', 'hitter', 'vision', 'tim', 'costello', 'astros', 'calderon', 'erosion', 'aggravate', 'firewood', 'elizabeth', 'gratitude', 'russian', 'bush', ')', 'sri', 'illegal', 'extradition', 'express', 'operate', 'tie', 'islamabad', 'minute', 'corruption', 'destruction', 'complaint', 'italian', 'viktor', 'earning', 'coordinate', 'poverty', 'defend', 'standing', 'team', 'opposition', 'summit', 'commander', 'england', 'australian', 'venezuelan', 'austria', 'boy', 'recognize', 'games', 'resignation', 'investor', 'analyst', 'putin', 'hard', 'challenge', 'chief', 'bombay', 'xinhua', 'tank', 'complex', 'zarqawi', 'vow', 'succeed', 'pervez', 'teach', 'god', 'ongoing', 'kenyan', 'jonathan', 'lieutenant', 'geneva', 'relatively', 'riot', 'qatar', 'safe', '5.3', 'argument', 'season', 'chelsea', 'bloody', 'trust', 'particular', 'forensic', 'bury', '1989', 'infection', 'piece', 'wide', 'black', 'chilean', 'chamber', 'learn', 'agenda', 'thomas', 'norwegian', 'coca', 'euphrate', 'fin', 'longer', 'tutsis', 'expand', 'customer', 'v', 'kazakhstan', 'advanced', 'venture', 'meter', 'criticism', 'apartment', 'retirement', '250', 'nancy', 'effective', '41', 'knee', 'saud', 'mountainous', 'understand', 'grant', 'tokyo', 'idea', 'plead', 'mohammed', 'weekend', 'eye', 'homer', 'pilgrim', 'saddam', 'lukashenko', 'soil', 'age', 'achieve', 'co', 'quit', 'grain', 'propose', 'neither', 'tiger', 'employ', 'yanukovych', 'carlos', 'severely', 'plunge', 'trail', 'electronic', 'persian', 'residence', 'reagan', 'combat', 'semifinal', 'de', 'mail', 'telephone', 'oversee', 'recession', 'coach', 'protocol', 'chechnya', 'burden', 'regard', 'subsequent', 'tom', 'payment', 'convict', 'influence', 'trillion', 'surge', 'attention', 'federal', 'message', 'stand', 'decide', 'detain', 'step', 'department', 'commission', 'tell', 'among', 'montreal', 'netherlands', 'bbc', 'chairman', 'worldwide', 'ally', 'uranium', 'renew', 'inning', 'interview', 'read', 'participate', 'career', 'tamil', 'brother', 'formally', 'previous', 'supreme', 'southeast', 'ag', '53', 'wife', 'investigator', 'mountain', 'deploy', 'researcher', 'suspension', 'dialogue', 'power', 'spokesman', 'respond', 'act', 'iraqis', 'maoist', 'crisis', 'figure', 'block', 'remove', 'mainland', 'stock', 'positive', 'controversial', 'behind', 'negotiator', 'ballot', 'cite', 'allegedly', 'letter', 'refuse', 'accept', 'interim', 'director', 'credit', 'alliance', 'join', 'castro', 'voa', 'communist', 'muslims', 'airport', 'pledge', 'america', 'player', 'independent', 'proposal', 'hezbollah', 'defeat', 'administration', 'presidential', 'ask', 'arrive', 'without', 'general', 'venezuela', '6', ',', 'may', 'prime', 'back', 'both', 'investigation', 'win', 'see', 'reach', 'justice', 'clash', 'discuss', 'measure', 'civil', 'conference', 'note', 'aim', 'poor', 'damage', '16', 'hold', 'afghan', 'face', '200', 'abu', 'delay', 'attend', 'comment', 'june', 'candidate', 'far', 'dutch', 'jewish', 'her', 'political', 'former', 'reduce', '2000', 'ambassador', 'plant', 'demonstration', 'soon', 'squad', 'broadcast', 'must', 'mahmoud', 'arm', 'gdp', 'diplomat', 'side', 'video', 'deputy', 'judge', 'criminal', 'stronghold', 'metre', 'argentine', '400', 'intend', 'democrats', 'prevent', 'catholic', 'device', 'announcement', 'blow', 'bond', '1.5', 'pacific', 'reason', 'front', 'vladimir', 'bosnia', 'george', 'karzai', 'seed', 'torture', 'moderate', 'poland', 'non', 'clinton', 'disease', 'single', 'strengthen', 'lanka', 'violent', 'hunt', 'picture', 'any', \"'\", 'status', 'yet', 'female', 'activist', 'amendment', 'forecaster', 'increasingly', 'care', 'amid', 'comprehensive', '32', 'fair', 'spend', 'costa', 'rica', 'nicaragua', 'fatah', 'personnel', 'tsunami', 'movie', 'hide', 'question', 'once', 'referendum', 'fidel', 'itself', 'session', 'chemical', 'regime', 'chicken', 'encourage', 'flight', 'defendant', 'senator', 'sectarian', 'partner', 'bp', 'practice', 'spending', 'tennis', 'lift', 'ramallah', 'e', 'wing', 'liberation', 'cash', 'flow', 'ahmed', 'juan', 'nor', 'club', 'violation', 'fatality', 'expansion', '1994', 'confiscate', 'tree', 'malaysia', 'tv', 'assailant', 'commerce', 'hurt', 'speculation', 'disrupt', 'overthrow', 'dictator', 'explain', 'orthodox', 'affair', 'alert', 'champion', 'shut', 'alexander', 'wartime', 'unidentified', 'ebola', 'crop', 'datum', 'deteriorate', 'spy', 'attract', 'about', 'airbus', 'hariri', 'resolve', 'rather', 'afternoon', 'singer', 'gesture', 'ghraib', 'contest', 'technique', 'firework', 'worried', 'james', 'minibus', 'harper', 'tomb', 'statistic', 'rating', 'topsoil', 'moisture', 'tropical', 'tribunal', 'medic', 'musab', 'sovereignty', 'organizer', 'weight', '1992', 'subsequently', 'conspiracy', 'afp', 'negotiate', 'ltd', 'lloyd', 'jones', 'sideline', 'integrate', 'jammu', 'hindu', '16th', 'temple', 'pave', 'administer', 'conservative', 'colonel', 'timetable', 'volume', 'disarm', 'adelaide', 'kasuri', 'fence', 'underway', 'congressman', 'engagement', 'umbrella', '49', 'uzbek', 'restructure', 'partnership', '12th', 'kuwait', 'oman', 'output', 'guatemala', 'legislator', 'eagle', '4.8', 'inquiry', 'alan', 'garcia', 'enemy', 'foreigner', '900', 'pride', 'verify', 'survivor', 'traditionally', 'thanksgiving', '1949', 'diego', 'sabotage', 'veracruz', 'mental', 'generally', 'quiet', 'era', 'dock', 'nante', 'pray', 'teacher', 'class', 'captive', 'provisional', 'check', 'rely', 'sound', 'botswana', 'transform', 'correspondent', 'quail', 'fast', 'sayyaf', 'ayman', 'coordinator', 'rahman', 'primarily', '20th', 'offender', 'seventh', 'feature', 'chan', 'painful', '500', 'unit', 'shoulder', 'herzegovina', 'someone', 'indicators', 'derail', 'diving', 'mickelson', 'emission', 'wooden', 'leak', 'trouble', '?', 'luck', 'lisbon', 'chevron', 'funding', 'presence', 'cease', 'herald', 'extra', 'muzaffarabad', 'archive', 'discussion', 'incidence', '85', '46', 'pkk', 'michel', 'renounce', 'journal', 'sue', 'traveler', 'repair', 'judicial', 'servant', 'homeland', 'airlift', 'slip', 'israelis', 'wear', 'uniform', 'hope', 'gabriel', 'stable', 'coincide', 'vs', 'surrender', 'original', 'rage', '02-jan', 'door', 'southwest', 'julia', 'switzerland', 'burundi', 'rwanda', 'verdict', 'stag', 'herself', 'friend', 'garlic', \"'ll\", 'quicken', 'ring', 'user', 'always', 'steal', 'collect', '202', 'unacceptable', 'labor', 'campbell', 'khamenei', 'captain', 'idol', 'weaken', 'sit', 'naked', 'raul', 'secure', 'otherwise', 'barack', 'settler', 'downhill', 'tony', 'argue', 'physical', 'upjohn', 'potential', 'lie', 'pop', 'cambodian', 'ingredient', 'notify', 'eritrea', 'bind', 'deployment', 'invasion', 'milwaukee', 'downgrade', 'category', 'undertake', 'mohamed', 'siad', 'barre', '123', 'km', 'mile', 'grozny', 'hint', 'substance', 'invitation', 'lineup', 'updated', 'ultimate', 'cambodia', 'introduce', 'strangle', 'thing', 'smuggling', '63', '1/2', 'core', 'arrival', 'carroll', 'publication', 'qualifier', 'dissolution', 'fact', 'appropriate', 'schalke', 'compensate', 'colony', 'rubber', 'choice', 'anthony', 'mitchell', 'experiment', 'muscle', 'epidemic', 'convention', 'proof', 'split', 'hu', 'commemoration', 'revise', '96', 'haven', 'spokeswoman', 'quota', 'guarantee', 'talabani', 'exercise', 'railway', 'bed', 'uphold', 'van', 'guinea', 'dole', 'award', 'unclear', 'g-20', 'crowd', 'authoritarian', 'stricken', 'swansea', 'exhaustion', 'honest', 'afghans', 'courtroom', 'mozambique', 'bolivia', 'provision', 'swap', 'eve', 'a$', 'politically', '1959', '30-share', 'ordinary', 'federico', 'colonna', 'mapei', 'scene', 'tabulate', 'busy', 'kujundzic', 'yuan', 'runway', 'absolute', 'fraud', 'evasion', 'treasury', 'primary', 'annually', 'junta', 'governmental', 'serbian', 'guilty', 'panel', 'scott', 'authorize', 'steep', 'educational', 'item', 'pedro', 'mil', 'arcega', 'julian', 'calendar', 'sept', 'sacrifice', 'liberty', 'rebuild', 'park', 'academy', 'unlike', 'either', 'promote', 'await', 'kiev', 'cairo', 'hail', 'tackle', 'tiny', 'martinez', 'chadian', 'biased', '06-apr', 'teenage', 'pdvsa', 'ussr', 'unification', 'outpost', 'formal', 'textile', 'exist', 'loan', 'sao', 'queen', 'tolerance', 'standoff', 'contaminate', 'diamond', 'olmert', 'davis', '37', '521', 'chase', 'setback', 'd.c.', '06-mar', 'frankfurt', 'saint', 'kyoto', 'greenhouse', 'quick', 'spill', 'depot', 'neighbor', 'resort', 'tape', 'moussa', 'pandemic', 'warrant', 'conclude', 'moldova', 'regularly', 'anyone', 'zenith', 'entertainment', 'stadium', 'available', 'tibet', 'elder', 'la', 'observer', 'amnesty', 'rap', 'jacque', 'dry', 'enable', 'tech', 'motor', 'purpose', 'shove', 'telecommunication', 'khmer', 'undermine', 'condoleezza', 'proportion', 'implicate', 'lagos', 'accelerate', 'attribute', 'off', 'cut', 'storm', 'form', 'organization', 'officer', 'incident', 'free', 'german', 'another', 'home', 'minister', 'strong', 'islamic', '50', 'bring', 'whether', 'action', 'newspaper', 'visit', 'strain', 'church', 'seize', 'kilometer', 'involve', 'hospital', 'contract', 'special', 'should', 'information', 'who', 'border', 'party', 'suicide', '%', 'france', 'die', 'taiwan', 'crash', 'elect', 'serve', 'tax', 'hand', 'ahmadinejad', 'bad', 'leave', 'run', 'reporter', 'wednesday', 'top', 'threat', 'line', 'asia', 'movement', 'indicate', 'drive', 'lose', 'pope', 'ground', 'change', 'sweep', 'my', 'training', 'white', 'syrian', '2004', 'deep', 'separate', 'guantanamo', 'job', 'rocket', 'oust', 'office', 'operation', 'pass', 'press', 'lebanon', 'well', 'parliamentary', 'taliban', 'against', 'reject', 'allow', 'court', '5', 'leader', 'tension', 'weather', 'require', 'medical', 'risk', 'although', 'anbar', 'orleans', '1995', 'musharraf', 'nepal', 'crackdown', '2007', 'pentagon', 'detail', 'islamist', 'senate', 'again', 'spark', 'delhi', 'politician', 'remote', 'resign', 'process', 'detention', 'supporter', 'immediately', 'ali', 'texas', 'ukraine', 'second', 'beijing', 'i', 'same', 'become', 'policy', 'then', 'gunman', 'his', 'if', 'russia', '1', 'election', 'trial', 'terrorist', 'body', 'put', 'bird', 'him', 'prison', 'radio', 'italy', 'break', 'arab', 'schedule', 'spain', 'great', 'miss', 'them', 'right', 'monday', 'come', 'base', 'disappear', 'stall', 'trap', 'emerge', 'light', 'favor', 'even', 'vatican', 'faction', 'congo', 'abdul', 'resolution', 'tight', 'michael', 'feel', 'greek', 'account', 'asian', 'municipal', 'helicopter', 'hong', 'kong', 'pipeline', 'conversation', 'ayatollah', 'photograph', 'baseball', 'date', 'bay', 'snow', 'b', 'file', 'valley', 'veterinary', 'few', 'pre', 'kandahar', 'peacekeeper', 'california', 'combine', 'domestic', 'entire', 'constitutional', 'delivery', 'burn', 'widespread', 'thailand', 'goal', 'important', 'joint', 'limited', 'never', 'jerusalem', 'consumer', 'producer', 'likely', 'pick', 'dealer', 'happen', 'northwestern', 'probably', '2', 'name', 'announce', 'no', 'include', 'early', '90', 'study', 'post', 'japanese', 'king', 'push', ';', 'annual', 'neighboring', 'add', 'mass', 'event', 'patrol', 'senior', 'catch', 'space', 'loss', 'day', 'lawmaker', 'deny', 'term', 'cross', 'old', 'speak', 'human', 'saturday', 'one', 'also', 'their', 'release', 'market', 'open', 'he', 'defense', 'september', 'november', 'grow', 'crime', 'current', 'project', 'haiti', 'decline', 'raise', 'round', 'future', 'military', 'but', 'follow', 'debt', 'donor', 'peaceful', 'monitor', 'stem', 'farmer', 'secret', 'soccer', 'interest', 'field', 'winner', 'gun', 'protester', 'within', 'fear', 'street', 'promise', 'all', 'corporation', 'aristide', 'typhoon', 'narrow', 'subject', 'limit', 'huge', 'osce', 'kremlin', 'mikhail', 'khodorkovsky', 'stone', 'art', '&', 'blue', 'brown', 'cancer', 'debate', 'slowly', 'traditional', 'rome', 'jury', 'tend', 'son', 'throw', 'table', 'photo', 'insurance', 'shrink', 'invest', 'father', 'waziristan', 'denmark', 'refuge', 'accident', '2011', 'disarmament', 'rank', 'answer', 'illinois', 'common', 'membership', 'self', 'reflect', 'acknowledge', 'counterpart', 'salvador', 'sarajevo', 'manager', 'adult', '57', 'appointment', 'advance', 'experience', 'euro', 'jihad', '600', 'firm', 'interrogation', 'method', 'mudslide', 'worth', 'affiliate', 'upper', 'overall', 'corps', 'corp.', 'shareholder', 'away', 'reportedly', 'literature', 'patient', 'connect', 'decrease', 'colombo', '13-year', 'ride', 'consolidation', 'fill', 'margin', 'visa', 'instal', 'brunei', 'organize', 'polio', 'successful', 'digital', 'aggregate', 'canada', 'overwhelmingly', 'ticket', 'avoid', '69', 'fan', 'gabon', 'marine', '180', 'capability', 'sweden', 'below', '65', 'stroke', 'warm', 'legislative', 'predict', 'bridge', 'grand', 'memorial', 'pearl', 'meeting', 'tel', 'bear', 'transition', 'save', 'erupt', 'slow', 'soar', 'fbi', 'latin', 'commemorate', 'trigger', 'ehud', 'reserve', 'establishment', 'holy', 'jungle', 'warlord', 'vienna', 'satellite', 'formation', '31', 'dope', 'diagnose', 'restaurant', 'hutu', 'your', 'concerned', 'store', 'scheme', 'ready', 'mutate', 'extract', 'ethiopia', 'flawed', 'embargo', 'recommendation', 'article', 'mrs.', 'los', 'angele', '1970', 'escape', 'chaos', 'khartoum', 'drink', 'hussein', 'lyon', 'hapoel', 'doubt', 'fully', 'brussels', 'impact', 'inn', 'deutsche', 'fundamental', 'necessary', 'attendance', 'banking', 'command', 'wicket', 'shield', 'spacecraft', 'slump', 'remark', 'offense', 'book', 'winter', 'flag', 'convert', '1999', 'sensitive', 'fine', 'associated', 'dax', 'gold', 'cricket', 'confirmation', 'astronaut', 'infrastructure', '56', 'times', 'postpone', 'train', 'moment', 'rouge', 'hybrid', 'return', 'give', 'along', 'washington', 'while', 'vote', 'service', 'just', 'million', 'after', 'new', 'concern', 'system', 'need', 'ban', 'allege', 'prisoner', 'offer', 'by', 'french', 'issue', 'wound', 'four', 'first', 'since', 'death', 'revenue', 'turkish', 'very', 'travel', 'law', 'majority', 'cuban', 'hop', 'gather', 'doctor', 'us', 'mexico', 'like', 'roadside', 'representative', 'year', 'before', 'next', '0', 'virus', 'order', 'shoot', 'would', 'taleban', 'make', 'call', 'thursday', 'high', '-docstart-', 'play', 'down', 'january', 'egypt', 'major', 'palestinians', 'moscow', 'agree', '2006', 'production', 'cuba', 'witness', 'paris', 'ii', 'inside', 'locate', 'terror', 'mid', 'unknown', 'upon', 'opinion', 'treatment', 'southeastern', 'dangerous', 'fourth', 'prepare', 'score', 'san', 'failure', 'serious', 'option', 'forecast', 'heavily', 'spanish', 'individual', 'citizen', 'sentence', 'truck', 'coup', 'interior', 'competition', 'paper', 'finish', 'atomic', 'helmand', 'mean', 'suspicion', 'suffer', 'permanent', 'a', 'effort']\n",
      "score 0.985\n"
     ]
    }
   ],
   "source": [
    "import pandas as pd\n",
    "import numpy as np\n",
    "from math import log\n",
    "import operator\n",
    "raw_data = pd.read_csv('./asset/data.txt', sep='\\t')\n",
    "raw_data.head()\n",
    "def tokenize(sms):\n",
    "    if type(sms) is list:\n",
    "        return sms\n",
    "    return sms.split(' ')\n",
    "\n",
    "def get_freq_of_tokens(sms):\n",
    "    tokens = {}\n",
    "    for token in tokenize(sms):\n",
    "        if token not in tokens:\n",
    "            tokens[token] = 1\n",
    "        else:\n",
    "            tokens[token] += 1\n",
    "    return tokens\n",
    "\n",
    "training_data = []\n",
    "test_data = []\n",
    "total_samples = len(raw_data)\n",
    "\n",
    "test_samples_amount = 0\n",
    "for index in range(total_samples-test_samples_amount):\n",
    "    training_data.append((get_freq_of_tokens(raw_data.iloc[index].text), raw_data.iloc[index].category))\n",
    "for index in range(total_samples-test_samples_amount, total_samples):\n",
    "    test_data.append(raw_data.iloc[index].text)\n",
    "#training_data[:5]\n",
    "def multinomial_nb(training_data, sms):\n",
    "    spam_vector = {}\n",
    "    spam_sum = 0.0\n",
    "    spam_rows = 0.0\n",
    "    ham_vector = {}\n",
    "    ham_sum = 0.0\n",
    "    ham_rows = 0.0\n",
    "    count_vector = {}\n",
    "    sms_frequency = {}\n",
    "    vector_length = 0\n",
    "    p_spam = 0.0\n",
    "    p_ham = 0.0\n",
    "    sms_frequency = get_freq_of_tokens(sms)\n",
    "    #smoothing\n",
    "    for pair in training_data:\n",
    "        for feature in pair[0]:\n",
    "            #smoothing\n",
    "            spam_vector[feature] = 1.0\n",
    "            ham_vector[feature] = 1.0\n",
    "            count_vector[feature] = 0\n",
    "    vector_length = len(spam_vector)\n",
    "    #smoothing\n",
    "    spam_sum += vector_length\n",
    "    ham_sum += vector_length\n",
    "    for pair in training_data:\n",
    "        if pair[1] == 'spam':\n",
    "            spam_rows += 1\n",
    "            for feature in pair[0]:\n",
    "                spam_vector[feature] += pair[0][feature]\n",
    "                spam_sum += pair[0][feature]\n",
    "        else:\n",
    "            ham_rows += 1\n",
    "            for feature in pair[0]:\n",
    "                ham_vector[feature] += pair[0][feature]\n",
    "                ham_sum += pair[0][feature]\n",
    "    p_spam = spam_rows / (spam_rows + ham_rows)\n",
    "    p_ham = ham_rows / (spam_rows + ham_rows)\n",
    "    #print(p_spam, p_ham)\n",
    "    for token in sms_frequency:\n",
    "        if token not in count_vector:\n",
    "            count_vector[token] = 0\n",
    "        count_vector[token] += sms_frequency[token]\n",
    "    for feature in spam_vector:\n",
    "        spam_vector[feature] = spam_vector[feature]/spam_sum\n",
    "        ham_vector[feature] = ham_vector[feature]/ham_sum\n",
    "    p_spam = log(p_spam)\n",
    "    p_ham = log(p_ham)\n",
    "    stat_ham = {}\n",
    "    stat_spam = {}\n",
    "    stat = {}\n",
    "    for feature in spam_vector:\n",
    "        stat_spam[feature] = log(spam_vector[feature])\n",
    "        stat_ham[feature] = log(ham_vector[feature])\n",
    "        stat[feature] = stat_spam[feature]/stat_ham[feature]\n",
    "        #print(feature, count_vector[feature])\n",
    "        p_spam = p_spam + log(spam_vector[feature])*count_vector[feature]\n",
    "        p_ham = p_ham + log(ham_vector[feature])*count_vector[feature]\n",
    "        #print('pham', p_ham)\n",
    "    #spam:1 ham:0\n",
    "    ratio = p_spam/p_ham\n",
    "\n",
    "    return ratio, sorted(stat_spam.items(), key=operator.itemgetter(1))[::-1][:50],\\\n",
    "sorted(stat_ham.items(), key=operator.itemgetter(1))[::-1][:50], sorted(stat.items(), key=operator.itemgetter(1))[::-1]\n",
    "\n",
    "\n",
    "#for index in range(len(test_data)):\n",
    "#    sms = tokenize(test_data[index])\n",
    "#    result = multinomial_nb(training_data, sms)\n",
    "#    print(total_samples - test_samples_amount + index + 4, sms[:3], result, 'spam' if result>1 else 'ham')\n",
    "\n",
    "sms = \"I am not spam\"\n",
    "sms = ['david', 'yeltsin', 'executive', 'powell', 'replacement', 'phone', 'brazilian', 'wimbledon', 'mubarak', 'mr.', 'speech',\\\n",
    "       'm.', 'autonomy', 'jan', 'bhutto', 'cypriot', 'bulgaria', 'lap', 'inspire', 'midfielder']\n",
    "sms = ['kashmir', 'fail', 'crude', 'october', 'himself', 'sea', 'ship', 'period', 'mogadishu', 'present', 'less', 'poll', 'pct',\\\n",
    "       'east', 'iraq', 'you', 'peninsula', 'niger', 'education', 'whose']\n",
    "c = multinomial_nb(training_data, tokenize(sms))\n",
    "print(c[0])\n",
    "test_data = './asset/modified_data.txt'\n",
    "with open(test_data,'r') as data:\n",
    "    i = 0\n",
    "    res = []\n",
    "    for line in data:\n",
    "        result, stat_spam, stat_ham, stat = multinomial_nb(training_data, tokenize(line.strip()))\n",
    "        if result >=1:\n",
    "            res.append(1)\n",
    "            #print(i, '1')\n",
    "        else:\n",
    "            res.append(0)\n",
    "            #print(i, '0')\n",
    "        i += 1\n",
    "    spam = [item[0] for item in stat_spam]\n",
    "    ham = [item[0] for item in stat_ham]\n",
    "    stat1 = [item[0] for item in stat if item[1]>=1]\n",
    "    stat0 = [item[0] for item in stat if item[1]<1][::-1]\n",
    "    print('1:')\n",
    "    print(stat1)\n",
    "    print('0:')\n",
    "    print(stat0)\n",
    "    score = sum(res)/len(res)\n",
    "    print('score', score)\n",
    "        \n",
    "            "
   ]
  },
  {
   "cell_type": "markdown",
   "metadata": {},
   "source": [
    "For this lab, you need to **implement** a multinomial naive bayes classifier (i.e., `multinomial_nb()` in the file: `submission.py`) with add-1 smoothing. The input arguments of `multinomial_nb()` are:\n",
    "* `training_data`: pre-processed data stored as a `dictionary`\n",
    "* `sms`: test-sms (i.e., a list of tokens) that you need to categorize as `spam` and/or `ham`\n",
    "\n",
    "The return value of `multinomial_nb()` should be the **ratio** of the probability of sms is spam and the probability of sms is ham. A return value larger than 1 implies the `sms` is spam and vice versa.\n",
    "\n",
    "For example, a sample output is shown in the cell given below:"
   ]
  },
  {
   "cell_type": "code",
   "execution_count": 3,
   "metadata": {
    "scrolled": true
   },
   "outputs": [
    {
     "name": "stdout",
     "output_type": "stream",
     "text": [
      "0.2342767295597484\n"
     ]
    }
   ],
   "source": [
    "## How we test your implementation...\n",
    "import submission_ans as submission\n",
    "\n",
    "sms = 'I am not spam'\n",
    "print(submission.multinomial_nb(training_data, tokenize(sms)))"
   ]
  },
  {
   "cell_type": "markdown",
   "metadata": {},
   "source": [
    "# Submission\n",
    "\n",
    "You need to complete the function `multinomial_nb()` in the file: `submission.py`. You are allowed to test your submission against sample test cases using online submission system (i.e., https://kg.cse.unsw.edu.au:8318/lab3/).\n",
    "\n",
    "\n",
    "# Test Environment\n",
    "\n",
    "For testing, we have pre-installed the requisite modules and/or libraries in the testing environment. You are only allowed to use following libraries:\n",
    "* python: 3.5.2\n",
    "* pandas: 0.19.2\n",
    "\n",
    "NOTE: You are required to implement the classifier by yourself. You are not allowed to import **sklearn** and/or any other library in Lab3."
   ]
  },
  {
   "cell_type": "code",
   "execution_count": 17,
   "metadata": {},
   "outputs": [
    {
     "name": "stdout",
     "output_type": "stream",
     "text": [
      "{'aaa': 1}\n",
      "aaaa\n"
     ]
    }
   ],
   "source": [
    "a = {'aaa':1,}\n",
    "if 'b' not in a:\n",
    "    print(a)\n",
    "sms = ['a','b']\n",
    "if type(sms) is list:\n",
    "    print('aaaa')"
   ]
  }
 ],
 "metadata": {
  "kernelspec": {
   "display_name": "Python 3",
   "language": "python",
   "name": "python3"
  },
  "language_info": {
   "codemirror_mode": {
    "name": "ipython",
    "version": 3
   },
   "file_extension": ".py",
   "mimetype": "text/x-python",
   "name": "python",
   "nbconvert_exporter": "python",
   "pygments_lexer": "ipython3",
   "version": "3.6.4"
  }
 },
 "nbformat": 4,
 "nbformat_minor": 2
}
